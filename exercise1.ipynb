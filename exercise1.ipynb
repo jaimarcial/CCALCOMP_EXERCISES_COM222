{
  "cells": [
    {
      "cell_type": "markdown",
      "metadata": {
        "id": "3-prKGbfwFRd"
      },
      "source": [
        "# Exercise 1"
      ]
    },
    {
      "cell_type": "markdown",
      "metadata": {
        "id": "kBW-_z9HwFRf"
      },
      "source": [
        "Please follow the instructions in each number. Do not remove or modify the pre-defined code!"
      ]
    },
    {
      "cell_type": "code",
      "execution_count": 1,
      "metadata": {
        "id": "ABAdD_ngwFRg"
      },
      "outputs": [],
      "source": [
        "# Add a vertex to the set of vertices and the graph\n",
        "def add_vertex(v):\n",
        "  global graph\n",
        "  global vertices_no\n",
        "  global vertices\n",
        "  if v in vertices:\n",
        "    print(\"Vertex \", v, \" already exists\")\n",
        "  else:\n",
        "    vertices_no = vertices_no + 1\n",
        "    vertices.append(v)\n",
        "    if vertices_no > 1:\n",
        "        for vertex in graph:\n",
        "            vertex.append(0)\n",
        "    temp = []\n",
        "    for i in range(vertices_no):\n",
        "        temp.append(0)\n",
        "    graph.append(temp)\n",
        "\n",
        "# Add an edge between vertex v1 and v2 with edge weight e\n",
        "def add_edge(v1, v2, e):\n",
        "    global graph\n",
        "    global vertices_no\n",
        "    global vertices\n",
        "    # Check if vertex v1 is a valid vertex\n",
        "    if v1 not in vertices:\n",
        "        print(\"Vertex \", v1, \" does not exist.\")\n",
        "    # Check if vertex v1 is a valid vertex\n",
        "    elif v2 not in vertices:\n",
        "        print(\"Vertex \", v2, \" does not exist.\")\n",
        "    # Since this code is not restricted to a directed or\n",
        "    # an undirected graph, an edge between v1 v2 does not\n",
        "    # imply that an edge exists between v2 and v1\n",
        "    else:\n",
        "        index1 = vertices.index(v1)\n",
        "        index2 = vertices.index(v2)\n",
        "        graph[index1][index2] = e\n",
        "\n",
        "# Print the graph\n",
        "def print_graph():\n",
        "    global graph\n",
        "    global vertices_no\n",
        "    global vertices\n",
        "    for i in range(vertices_no):\n",
        "        for j in range(vertices_no): \n",
        "            if graph[i][j] != 0:\n",
        "                print(vertices[i], \" -> \", vertices[j],\n",
        "                      \" edge weight: \", graph[i][j])\n"
      ]
    },
    {
      "cell_type": "code",
      "execution_count": 2,
      "metadata": {
        "id": "912w9tR0wFRh"
      },
      "outputs": [],
      "source": [
        "# stores the vertices in the graph\n",
        "vertices = []\n",
        "# stores the number of vertices in the graph\n",
        "vertices_no = 0\n",
        "graph = []"
      ]
    },
    {
      "cell_type": "markdown",
      "metadata": {
        "id": "lzkib3wYwFRh"
      },
      "source": [
        "<img src=\"https://github.com/robitussin/CCALCOMP_EXERCISES/blob/main/images/directed%20graph2.png?raw=true\"/>"
      ]
    },
    {
      "cell_type": "markdown",
      "metadata": {
        "id": "Qfh-2gbPwFRi"
      },
      "source": [
        "1. Print the edges and vertices of the graph in set representation. (`25 points`)"
      ]
    },
    {
      "cell_type": "code",
      "execution_count": 3,
      "metadata": {
        "id": "FSymqoxmwFRi"
      },
      "outputs": [
        {
          "name": "stdout",
          "output_type": "stream",
          "text": [
            "Edges:  [{'E', 'A'}, {'D', 'A'}, {'B', 'A'}, {'A', 'C'}, {'D', 'C'}, {'B', 'C'}]\n",
            "Vertices:  {'A', 'C', 'D', 'E', 'B'}\n"
          ]
        }
      ],
      "source": [
        "edges = [{'E', 'A'}, {'A', 'D'}, {'A', 'B'}, {'A', 'C'}, {'D', 'C'}, {'C', 'B'}]\n",
        "vertices = {'A', 'B', 'C', 'D', 'E'} \n",
        "\n",
        "print(\"Edges: \", edges)\n",
        "print(\"Vertices: \", vertices)\n"
      ]
    },
    {
      "cell_type": "markdown",
      "metadata": {
        "id": "NHt6QEFzwFRi"
      },
      "source": [
        "2. Implement the weighted graph in python code. Use the print_graph() function. (`25 points`)"
      ]
    },
    {
      "cell_type": "code",
      "execution_count": 5,
      "metadata": {
        "id": "fcYP9VF9wFRj"
      },
      "outputs": [
        {
          "name": "stdout",
          "output_type": "stream",
          "text": [
            "A  ->  B  edge weight:  10\n",
            "A  ->  C  edge weight:  12\n",
            "A  ->  D  edge weight:  60\n",
            "A  ->  E  edge weight:  7\n",
            "B  ->  C  edge weight:  20\n",
            "C  ->  D  edge weight:  32\n"
          ]
        }
      ],
      "source": [
        "# stores the vertices in the graph\n",
        "vertices = []\n",
        "# stores the number of vertices in the graph\n",
        "vertices_no = 0\n",
        "graph = []\n",
        "\n",
        "add_vertex('A')\n",
        "add_vertex('B')\n",
        "add_vertex('C')\n",
        "add_vertex('D')\n",
        "add_vertex('E')\n",
        "\n",
        "add_edge('A', 'B', 10)\n",
        "add_edge('A', 'C', 12)\n",
        "add_edge('A', 'E', 7)\n",
        "add_edge('A', 'D', 60)\n",
        "add_edge('B', 'C', 20)\n",
        "add_edge('C', 'D', 32)\n",
        "\n",
        "print_graph()\n"
      ]
    },
    {
      "cell_type": "markdown",
      "metadata": {
        "id": "kD-6afNTwFRj"
      },
      "source": [
        "3. You decided to go on a trip around the philippines. Being a computer scientist, you wanted to find the optimal route that would cost the least amount of money to travel all four cities. Find the route and print the total cost of the most optimal route. (`50 points`)"
      ]
    },
    {
      "cell_type": "markdown",
      "metadata": {
        "id": "cBHIHSIewFRj"
      },
      "source": [
        "<img src=\"https://github.com/robitussin/CCALCOMP_EXERCISES/blob/main/images/trip.png?raw=true\" width=\"500\" height=\"600\"/>"
      ]
    },
    {
      "cell_type": "code",
      "execution_count": null,
      "metadata": {
        "id": "yNwmvIXnwFRj"
      },
      "outputs": [
        {
          "name": "stdout",
          "output_type": "stream",
          "text": [
            "Best Route: Manila -> Tacloban -> Puerto Princesa -> Davao -> Manila\n",
            "Total Coast:  11500\n"
          ]
        }
      ],
      "source": [
        "print(\"Best Route: Manila -> Tacloban -> Puerto Princesa -> Davao > Manila\")\n",
        "print(\"Total Cost: ₱\", 1000 + 1500 + 4000 + 5000)"
      ]
    }
  ],
  "metadata": {
    "colab": {
      "provenance": []
    },
    "kernelspec": {
      "display_name": "base",
      "language": "python",
      "name": "python3"
    },
    "language_info": {
      "codemirror_mode": {
        "name": "ipython",
        "version": 3
      },
      "file_extension": ".py",
      "mimetype": "text/x-python",
      "name": "python",
      "nbconvert_exporter": "python",
      "pygments_lexer": "ipython3",
      "version": "3.11.9"
    }
  },
  "nbformat": 4,
  "nbformat_minor": 0
}
