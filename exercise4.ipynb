{
  "cells": [
    {
      "cell_type": "markdown",
      "metadata": {
        "id": "cPRRjBOhHHMh"
      },
      "source": [
        "# Exercise 4\n",
        "\n",
        "Please follow the instructions in each number."
      ]
    },
    {
      "cell_type": "markdown",
      "metadata": {
        "id": "zvDTNWRFHHMk"
      },
      "source": [
        "### Activity Selection Problem\n",
        "\n",
        "Given a set of activities, along with the starting and finishing time of each activity, find the maximum number of activities performed by a single person assuming that a person can only work on a single activity at a time.\n",
        "\n",
        "For example,\n",
        "\n",
        "Input: Following set of activities (1, 4), (3, 5), (0, 6), (5, 7), (3, 8), (5, 9), (6, 10), (8, 11), (8, 12), (2, 13), (12, 14)  \n",
        "\n",
        "Output: (1, 4), (5, 7), (8, 11), (12, 14)"
      ]
    },
    {
      "cell_type": "markdown",
      "metadata": {
        "id": "ff7w7YLGHHMl"
      },
      "source": [
        "## Tasks"
      ]
    },
    {
      "cell_type": "markdown",
      "metadata": {
        "id": "0QLHdoNSHHMl"
      },
      "source": [
        "1. Write a program using a recursive greedy approach to get the maximum number of activities (`50 points`)"
      ]
    },
    {
      "cell_type": "code",
      "execution_count": 14,
      "metadata": {
        "id": "Xe02cHvAHHMl"
      },
      "outputs": [
        {
          "name": "stdout",
          "output_type": "stream",
          "text": [
            "Selected Acitvities: [(1, 4), (5, 7), (8, 11), (12, 14), (1, 4), (5, 7), (8, 11), (12, 14)]\n"
          ]
        }
      ],
      "source": [
        "def act_selector(activities, finishTime=0, selected_acts=[]):\n",
        "    if not activities:\n",
        "        return selected_acts\n",
        "\n",
        "    for i, activity in enumerate(activities):\n",
        "        if activity[0] >= finishTime:\n",
        "            remaining_acts = activities[i+1:]\n",
        "            selected_acts.append(activity)\n",
        "            return [activity] + act_selector(remaining_acts, activity[1], selected_acts)\n",
        "    return selected_acts\n",
        "\n",
        "def max_acts(activities):\n",
        "    activities.sort(key=lambda x: x[1])\n",
        "    return act_selector(activities)\n",
        "\n",
        "activities = [(1, 4), (3, 5), (0, 6), (5, 7), (3, 8), (5, 9), (6, 10), \n",
        "              (8, 11), (8, 12), (2, 13), (12, 14)]\n",
        "\n",
        "maximum_activities = maxacts(activities)\n",
        "print(\"Selected Acitvities:\", maximum_activities)\n"
      ]
    },
    {
      "cell_type": "markdown",
      "metadata": {
        "id": "eZe27u4LHHMn"
      },
      "source": [
        "2. Write a program using a iterative greedy approach to get the maximun number of activities (`50 points`)"
      ]
    },
    {
      "cell_type": "code",
      "execution_count": 15,
      "metadata": {
        "id": "UrSZyQwEHHMn"
      },
      "outputs": [
        {
          "name": "stdout",
          "output_type": "stream",
          "text": [
            "Selected activities: [(1, 4), (5, 7), (8, 11), (12, 14)]\n"
          ]
        }
      ],
      "source": [
        "def max_acts(activities):\n",
        "    sorted_acts = sorted(activities, key=lambda x: x[1])\n",
        "    selected_acts = []\n",
        "    last_finish_time = 0\n",
        "\n",
        "    for activity in sorted_acts:\n",
        "        if activity[0] >= last_finish_time:\n",
        "            selected_acts.append(activity)\n",
        "            last_finish_time = activity[1]\n",
        "\n",
        "    return selected_acts\n",
        "\n",
        "activities = [(1, 4), (3, 5), (0, 6), (5, 7), (3, 8), (5, 9), (6, 10), (8, 11), (8, 12), (2, 13), (12, 14)]\n",
        "\n",
        "selected_acts = max_acts(activities)\n",
        "print(\"Selected activities:\", selected_acts)"
      ]
    }
  ],
  "metadata": {
    "colab": {
      "provenance": []
    },
    "kernelspec": {
      "display_name": "base",
      "language": "python",
      "name": "python3"
    },
    "language_info": {
      "codemirror_mode": {
        "name": "ipython",
        "version": 3
      },
      "file_extension": ".py",
      "mimetype": "text/x-python",
      "name": "python",
      "nbconvert_exporter": "python",
      "pygments_lexer": "ipython3",
      "version": "3.11.9"
    }
  },
  "nbformat": 4,
  "nbformat_minor": 0
}
