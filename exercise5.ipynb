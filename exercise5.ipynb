{
  "cells": [
    {
      "cell_type": "markdown",
      "metadata": {
        "id": "-8bYOEC8HOQ4"
      },
      "source": [
        "# Exercise 5\n",
        "\n",
        "Please follow the instructions in each number."
      ]
    },
    {
      "cell_type": "markdown",
      "metadata": {
        "id": "FEPXLUAPHOQ6"
      },
      "source": [
        "### Maximum Subarray\n",
        "Given an array of integers nums, find the subarray with the largest sum and return the sum.\n",
        "\n",
        "A subarray is a contiguous non-empty sequence of elements within an array.\n",
        "\n",
        "\n",
        "\n",
        "Example 1:\n",
        "\n",
        "Input: nums = [2,-3,4,-2,2,1,-1,4]\n",
        "\n",
        "Output: 8\n",
        "\n",
        "Explanation: The subarray [4,-2,2,1,-1,4] has the largest sum 8."
      ]
    },
    {
      "cell_type": "markdown",
      "metadata": {
        "id": "D4a-4yS4HOQ7"
      },
      "source": [
        "## Tasks"
      ]
    },
    {
      "cell_type": "markdown",
      "metadata": {
        "id": "v8mlE6kYHOQ7"
      },
      "source": [
        "1. Put your student number in a list and manually compute the maximum subarray in your student number (`10 points`)"
      ]
    },
    {
      "cell_type": "code",
      "execution_count": 18,
      "metadata": {
        "id": "YJMIVpuTHOQ8"
      },
      "outputs": [
        {
          "name": "stdout",
          "output_type": "stream",
          "text": [
            "Maximum subarray sum: 18\n"
          ]
        }
      ],
      "source": [
        "def max_subarray(nums):\n",
        "    max_current = nums[0]  \n",
        "    max_ending = nums[0]\n",
        "\n",
        "    for num in nums[1:]:  \n",
        "        max_ending = max(num, max_ending + num) \n",
        "        max_current = max(max_current, max_ending)  \n",
        "\n",
        "    return max_current\n",
        "\n",
        "student_number = [2,0,2,2,1,0,7,1,2,1]\n",
        "print(\"Maximum subarray sum:\", max_subarray(student_number))\n"
      ]
    },
    {
      "cell_type": "markdown",
      "metadata": {
        "id": "nchQgI2KHOQ8"
      },
      "source": [
        "2. Write a program using a brute-force approach to get the maximum-subarray of your student number (`40 points`)"
      ]
    },
    {
      "cell_type": "code",
      "execution_count": 19,
      "metadata": {
        "id": "b9P6oe11HOQ9"
      },
      "outputs": [
        {
          "name": "stdout",
          "output_type": "stream",
          "text": [
            "Maximum subarray sum: 18\n"
          ]
        }
      ],
      "source": [
        "def max_subarray_brute_force(nums):\n",
        "    max_sum = float('-inf') \n",
        "\n",
        "    for start in range(len(nums)):\n",
        "        current_sum = 0  \n",
        "\n",
        "        for end in range(start, len(nums)):\n",
        "            current_sum += nums[end]  \n",
        "            max_sum = max(max_sum, current_sum) \n",
        "\n",
        "    return max_sum\n",
        "\n",
        "\n",
        "student_number = [2,0,2,2,1,0,7,1,2,1]\n",
        "print(\"Maximum subarray sum:\", max_subarray_brute_force(student_number))\n"
      ]
    },
    {
      "cell_type": "markdown",
      "metadata": {
        "id": "NkqAxIx_HOQ9"
      },
      "source": [
        "3. Write a program using a dynamic programming to get the maximum-subarray of your student number (`50 points`)"
      ]
    },
    {
      "cell_type": "code",
      "execution_count": 20,
      "metadata": {
        "id": "BFBp2ARLHOQ9"
      },
      "outputs": [
        {
          "name": "stdout",
          "output_type": "stream",
          "text": [
            "Maximum subarray sum: 18\n"
          ]
        }
      ],
      "source": [
        "def max_subarray_dp(nums):\n",
        "    if len(nums) == 0:\n",
        "        return 0\n",
        "\n",
        "    dp = [0] * len(nums)  \n",
        "    dp[0] = nums[0]  \n",
        "\n",
        "    max_sum = nums[0]  \n",
        "\n",
        "    for x in range(1, len(nums)):\n",
        "        dp[x] = max(nums[x], nums[x] + dp[x-1])\n",
        "        max_sum = max(max_sum, dp[x])\n",
        "\n",
        "    return max_sum\n",
        "\n",
        "student_number = [2,0,2,2,1,0,7,1,2,1]\n",
        "print(\"Maximum subarray sum:\", max_subarray_dp(student_number))\n"
      ]
    }
  ],
  "metadata": {
    "colab": {
      "provenance": []
    },
    "kernelspec": {
      "display_name": "base",
      "language": "python",
      "name": "python3"
    },
    "language_info": {
      "codemirror_mode": {
        "name": "ipython",
        "version": 3
      },
      "file_extension": ".py",
      "mimetype": "text/x-python",
      "name": "python",
      "nbconvert_exporter": "python",
      "pygments_lexer": "ipython3",
      "version": "3.11.9"
    }
  },
  "nbformat": 4,
  "nbformat_minor": 0
}
